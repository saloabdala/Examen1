{
  "nbformat": 4,
  "nbformat_minor": 0,
  "metadata": {
    "colab": {
      "provenance": [],
      "authorship_tag": "ABX9TyPdpaQZd7fdUVgte7a1jsns",
      "include_colab_link": true
    },
    "kernelspec": {
      "name": "python3",
      "display_name": "Python 3"
    },
    "language_info": {
      "name": "python"
    }
  },
  "cells": [
    {
      "cell_type": "markdown",
      "metadata": {
        "id": "view-in-github",
        "colab_type": "text"
      },
      "source": [
        "<a href=\"https://colab.research.google.com/github/saloabdala/Examen1/blob/main/lastmile_delivery_operations_mit_lift_lab_serving_customer.ipynb\" target=\"_parent\"><img src=\"https://colab.research.google.com/assets/colab-badge.svg\" alt=\"Open In Colab\"/></a>"
      ]
    },
    {
      "cell_type": "code",
      "execution_count": 1,
      "metadata": {
        "id": "3dgZVS1nxKqN"
      },
      "outputs": [],
      "source": [
        "#Importamos las librerías pandas, numpy y matplotlib respecitvamente\n",
        "import pandas as pd\n",
        "import numpy as np\n",
        "import matplotlib.pyplot as plt"
      ]
    },
    {
      "cell_type": "code",
      "source": [
        "#Cargar archivo csv desde equipo\n",
        "from google.colab import files\n",
        "files.upload()"
      ],
      "metadata": {
        "id": "GwUvmaRsxSZw"
      },
      "execution_count": null,
      "outputs": []
    },
    {
      "cell_type": "code",
      "source": [
        "#Carga desde un archivo .csv sin indice\n",
        "df=pd.read_csv(\"lastmile_delivery_operations_mit_lift_lab_serving_customer.csv\")\n",
        "df.head(5)"
      ],
      "metadata": {
        "colab": {
          "base_uri": "https://localhost:8080/",
          "height": 560
        },
        "id": "DFWhpJGHxjIV",
        "outputId": "4262f8bb-3642-469e-befe-2b03af9a4502"
      },
      "execution_count": 3,
      "outputs": [
        {
          "output_type": "execute_result",
          "data": {
            "text/plain": [
              "                       _child_record_id                            _record_id  \\\n",
              "0  12645bc3-33b6-4cc0-9c8e-9d8e6f35aa01  04e64464-3fbd-4ce1-99d8-5364e1567e8c   \n",
              "1  be0fc402-769c-41f8-90f1-1b0c9f151e7a  cda7b134-7827-4830-9337-53f46be4f8b4   \n",
              "2  634bbd94-8159-4733-973a-36ab89fb95d4  cbaab095-ad31-4145-804b-ddc218681802   \n",
              "3  cf8e05ea-0af9-4a66-9d8b-27c0cf572236  68b5ecad-36b0-4172-b2b3-43aebd0485ec   \n",
              "4  a1ff05ef-fe15-472e-ad6d-537c951afce4  3b19bb47-17f0-4d33-aa27-cf6890bacfe5   \n",
              "\n",
              "                             _parent_id        _title  _version  \\\n",
              "0  04e64464-3fbd-4ce1-99d8-5364e1567e8c       La fete         1   \n",
              "1  cda7b134-7827-4830-9337-53f46be4f8b4  Casa Flores          1   \n",
              "2  cbaab095-ad31-4145-804b-ddc218681802    Super deux         1   \n",
              "3  68b5ecad-36b0-4172-b2b3-43aebd0485ec         Dansk         1   \n",
              "4  3b19bb47-17f0-4d33-aa27-cf6890bacfe5   Ink Factory         1   \n",
              "\n",
              "               _created_at              _updated_at  \\\n",
              "0  2022-11-12 18:00:54 UTC  2022-11-12 18:02:03 UTC   \n",
              "1  2022-11-12 16:54:27 UTC  2022-11-12 16:55:48 UTC   \n",
              "2  2022-11-12 16:43:26 UTC  2022-11-12 16:45:00 UTC   \n",
              "3  2022-11-12 16:37:55 UTC  2022-11-12 16:38:54 UTC   \n",
              "4  2022-11-12 16:19:57 UTC  2022-11-12 16:21:14 UTC   \n",
              "\n",
              "                   _created_by                  _updated_by  _index  ...  \\\n",
              "0  Juan Carlos Bejarano Moreno  Juan Carlos Bejarano Moreno       0  ...   \n",
              "1  Juan Carlos Bejarano Moreno  Juan Carlos Bejarano Moreno       0  ...   \n",
              "2  Juan Carlos Bejarano Moreno  Juan Carlos Bejarano Moreno       0  ...   \n",
              "3  Juan Carlos Bejarano Moreno  Juan Carlos Bejarano Moreno       0  ...   \n",
              "4  Juan Carlos Bejarano Moreno  Juan Carlos Bejarano Moreno       0  ...   \n",
              "\n",
              "  name_of_the_store  entering_the_store  number_of_customers_in_store  \\\n",
              "0           La fete               23:50                             1   \n",
              "1      Casa Flores                10:35                             0   \n",
              "2        Super deux               10:35                             0   \n",
              "3             Dansk               10:22                             0   \n",
              "4       Ink Factory               10:13                             0   \n",
              "\n",
              "  number_of_suppliers_in_store  \\\n",
              "0                            1   \n",
              "1                            2   \n",
              "2                            1   \n",
              "3                            1   \n",
              "4                            1   \n",
              "\n",
              "                       picture_cargo_being_delivered  \\\n",
              "0  https://web.fulcrumapp.com/photos/view?photos=...   \n",
              "1  https://web.fulcrumapp.com/photos/view?photos=...   \n",
              "2  https://web.fulcrumapp.com/photos/view?photos=...   \n",
              "3  https://web.fulcrumapp.com/photos/view?photos=...   \n",
              "4  https://web.fulcrumapp.com/photos/view?photos=...   \n",
              "\n",
              "   picture_cargo_being_delivered_captions  \\\n",
              "0                                       ,   \n",
              "1                                       ,   \n",
              "2                                     NaN   \n",
              "3                                     NaN   \n",
              "4                                     NaN   \n",
              "\n",
              "                  picture_cargo_being_delivered_urls  \\\n",
              "0  https://web.fulcrumapp.com/api/v2/file?context...   \n",
              "1  https://web.fulcrumapp.com/api/v2/file?context...   \n",
              "2  https://web.fulcrumapp.com/api/v2/file?context...   \n",
              "3  https://web.fulcrumapp.com/api/v2/file?context...   \n",
              "4  https://web.fulcrumapp.com/api/v2/file?context...   \n",
              "\n",
              "  number_of_cases_boxes_delivered trolley_in_use  leaving_the_store  \n",
              "0                              15             no              12:12  \n",
              "1                              35             no              11:00  \n",
              "2                              12             no              10:50  \n",
              "3                               3             no              10:43  \n",
              "4                               1            yes              10:33  \n",
              "\n",
              "[5 rows x 27 columns]"
            ],
            "text/html": [
              "\n",
              "  <div id=\"df-9921cf33-ccd3-4478-90b8-050644f8a073\">\n",
              "    <div class=\"colab-df-container\">\n",
              "      <div>\n",
              "<style scoped>\n",
              "    .dataframe tbody tr th:only-of-type {\n",
              "        vertical-align: middle;\n",
              "    }\n",
              "\n",
              "    .dataframe tbody tr th {\n",
              "        vertical-align: top;\n",
              "    }\n",
              "\n",
              "    .dataframe thead th {\n",
              "        text-align: right;\n",
              "    }\n",
              "</style>\n",
              "<table border=\"1\" class=\"dataframe\">\n",
              "  <thead>\n",
              "    <tr style=\"text-align: right;\">\n",
              "      <th></th>\n",
              "      <th>_child_record_id</th>\n",
              "      <th>_record_id</th>\n",
              "      <th>_parent_id</th>\n",
              "      <th>_title</th>\n",
              "      <th>_version</th>\n",
              "      <th>_created_at</th>\n",
              "      <th>_updated_at</th>\n",
              "      <th>_created_by</th>\n",
              "      <th>_updated_by</th>\n",
              "      <th>_index</th>\n",
              "      <th>...</th>\n",
              "      <th>name_of_the_store</th>\n",
              "      <th>entering_the_store</th>\n",
              "      <th>number_of_customers_in_store</th>\n",
              "      <th>number_of_suppliers_in_store</th>\n",
              "      <th>picture_cargo_being_delivered</th>\n",
              "      <th>picture_cargo_being_delivered_captions</th>\n",
              "      <th>picture_cargo_being_delivered_urls</th>\n",
              "      <th>number_of_cases_boxes_delivered</th>\n",
              "      <th>trolley_in_use</th>\n",
              "      <th>leaving_the_store</th>\n",
              "    </tr>\n",
              "  </thead>\n",
              "  <tbody>\n",
              "    <tr>\n",
              "      <th>0</th>\n",
              "      <td>12645bc3-33b6-4cc0-9c8e-9d8e6f35aa01</td>\n",
              "      <td>04e64464-3fbd-4ce1-99d8-5364e1567e8c</td>\n",
              "      <td>04e64464-3fbd-4ce1-99d8-5364e1567e8c</td>\n",
              "      <td>La fete</td>\n",
              "      <td>1</td>\n",
              "      <td>2022-11-12 18:00:54 UTC</td>\n",
              "      <td>2022-11-12 18:02:03 UTC</td>\n",
              "      <td>Juan Carlos Bejarano Moreno</td>\n",
              "      <td>Juan Carlos Bejarano Moreno</td>\n",
              "      <td>0</td>\n",
              "      <td>...</td>\n",
              "      <td>La fete</td>\n",
              "      <td>23:50</td>\n",
              "      <td>1</td>\n",
              "      <td>1</td>\n",
              "      <td>https://web.fulcrumapp.com/photos/view?photos=...</td>\n",
              "      <td>,</td>\n",
              "      <td>https://web.fulcrumapp.com/api/v2/file?context...</td>\n",
              "      <td>15</td>\n",
              "      <td>no</td>\n",
              "      <td>12:12</td>\n",
              "    </tr>\n",
              "    <tr>\n",
              "      <th>1</th>\n",
              "      <td>be0fc402-769c-41f8-90f1-1b0c9f151e7a</td>\n",
              "      <td>cda7b134-7827-4830-9337-53f46be4f8b4</td>\n",
              "      <td>cda7b134-7827-4830-9337-53f46be4f8b4</td>\n",
              "      <td>Casa Flores</td>\n",
              "      <td>1</td>\n",
              "      <td>2022-11-12 16:54:27 UTC</td>\n",
              "      <td>2022-11-12 16:55:48 UTC</td>\n",
              "      <td>Juan Carlos Bejarano Moreno</td>\n",
              "      <td>Juan Carlos Bejarano Moreno</td>\n",
              "      <td>0</td>\n",
              "      <td>...</td>\n",
              "      <td>Casa Flores</td>\n",
              "      <td>10:35</td>\n",
              "      <td>0</td>\n",
              "      <td>2</td>\n",
              "      <td>https://web.fulcrumapp.com/photos/view?photos=...</td>\n",
              "      <td>,</td>\n",
              "      <td>https://web.fulcrumapp.com/api/v2/file?context...</td>\n",
              "      <td>35</td>\n",
              "      <td>no</td>\n",
              "      <td>11:00</td>\n",
              "    </tr>\n",
              "    <tr>\n",
              "      <th>2</th>\n",
              "      <td>634bbd94-8159-4733-973a-36ab89fb95d4</td>\n",
              "      <td>cbaab095-ad31-4145-804b-ddc218681802</td>\n",
              "      <td>cbaab095-ad31-4145-804b-ddc218681802</td>\n",
              "      <td>Super deux</td>\n",
              "      <td>1</td>\n",
              "      <td>2022-11-12 16:43:26 UTC</td>\n",
              "      <td>2022-11-12 16:45:00 UTC</td>\n",
              "      <td>Juan Carlos Bejarano Moreno</td>\n",
              "      <td>Juan Carlos Bejarano Moreno</td>\n",
              "      <td>0</td>\n",
              "      <td>...</td>\n",
              "      <td>Super deux</td>\n",
              "      <td>10:35</td>\n",
              "      <td>0</td>\n",
              "      <td>1</td>\n",
              "      <td>https://web.fulcrumapp.com/photos/view?photos=...</td>\n",
              "      <td>NaN</td>\n",
              "      <td>https://web.fulcrumapp.com/api/v2/file?context...</td>\n",
              "      <td>12</td>\n",
              "      <td>no</td>\n",
              "      <td>10:50</td>\n",
              "    </tr>\n",
              "    <tr>\n",
              "      <th>3</th>\n",
              "      <td>cf8e05ea-0af9-4a66-9d8b-27c0cf572236</td>\n",
              "      <td>68b5ecad-36b0-4172-b2b3-43aebd0485ec</td>\n",
              "      <td>68b5ecad-36b0-4172-b2b3-43aebd0485ec</td>\n",
              "      <td>Dansk</td>\n",
              "      <td>1</td>\n",
              "      <td>2022-11-12 16:37:55 UTC</td>\n",
              "      <td>2022-11-12 16:38:54 UTC</td>\n",
              "      <td>Juan Carlos Bejarano Moreno</td>\n",
              "      <td>Juan Carlos Bejarano Moreno</td>\n",
              "      <td>0</td>\n",
              "      <td>...</td>\n",
              "      <td>Dansk</td>\n",
              "      <td>10:22</td>\n",
              "      <td>0</td>\n",
              "      <td>1</td>\n",
              "      <td>https://web.fulcrumapp.com/photos/view?photos=...</td>\n",
              "      <td>NaN</td>\n",
              "      <td>https://web.fulcrumapp.com/api/v2/file?context...</td>\n",
              "      <td>3</td>\n",
              "      <td>no</td>\n",
              "      <td>10:43</td>\n",
              "    </tr>\n",
              "    <tr>\n",
              "      <th>4</th>\n",
              "      <td>a1ff05ef-fe15-472e-ad6d-537c951afce4</td>\n",
              "      <td>3b19bb47-17f0-4d33-aa27-cf6890bacfe5</td>\n",
              "      <td>3b19bb47-17f0-4d33-aa27-cf6890bacfe5</td>\n",
              "      <td>Ink Factory</td>\n",
              "      <td>1</td>\n",
              "      <td>2022-11-12 16:19:57 UTC</td>\n",
              "      <td>2022-11-12 16:21:14 UTC</td>\n",
              "      <td>Juan Carlos Bejarano Moreno</td>\n",
              "      <td>Juan Carlos Bejarano Moreno</td>\n",
              "      <td>0</td>\n",
              "      <td>...</td>\n",
              "      <td>Ink Factory</td>\n",
              "      <td>10:13</td>\n",
              "      <td>0</td>\n",
              "      <td>1</td>\n",
              "      <td>https://web.fulcrumapp.com/photos/view?photos=...</td>\n",
              "      <td>NaN</td>\n",
              "      <td>https://web.fulcrumapp.com/api/v2/file?context...</td>\n",
              "      <td>1</td>\n",
              "      <td>yes</td>\n",
              "      <td>10:33</td>\n",
              "    </tr>\n",
              "  </tbody>\n",
              "</table>\n",
              "<p>5 rows × 27 columns</p>\n",
              "</div>\n",
              "      <button class=\"colab-df-convert\" onclick=\"convertToInteractive('df-9921cf33-ccd3-4478-90b8-050644f8a073')\"\n",
              "              title=\"Convert this dataframe to an interactive table.\"\n",
              "              style=\"display:none;\">\n",
              "        \n",
              "  <svg xmlns=\"http://www.w3.org/2000/svg\" height=\"24px\"viewBox=\"0 0 24 24\"\n",
              "       width=\"24px\">\n",
              "    <path d=\"M0 0h24v24H0V0z\" fill=\"none\"/>\n",
              "    <path d=\"M18.56 5.44l.94 2.06.94-2.06 2.06-.94-2.06-.94-.94-2.06-.94 2.06-2.06.94zm-11 1L8.5 8.5l.94-2.06 2.06-.94-2.06-.94L8.5 2.5l-.94 2.06-2.06.94zm10 10l.94 2.06.94-2.06 2.06-.94-2.06-.94-.94-2.06-.94 2.06-2.06.94z\"/><path d=\"M17.41 7.96l-1.37-1.37c-.4-.4-.92-.59-1.43-.59-.52 0-1.04.2-1.43.59L10.3 9.45l-7.72 7.72c-.78.78-.78 2.05 0 2.83L4 21.41c.39.39.9.59 1.41.59.51 0 1.02-.2 1.41-.59l7.78-7.78 2.81-2.81c.8-.78.8-2.07 0-2.86zM5.41 20L4 18.59l7.72-7.72 1.47 1.35L5.41 20z\"/>\n",
              "  </svg>\n",
              "      </button>\n",
              "      \n",
              "  <style>\n",
              "    .colab-df-container {\n",
              "      display:flex;\n",
              "      flex-wrap:wrap;\n",
              "      gap: 12px;\n",
              "    }\n",
              "\n",
              "    .colab-df-convert {\n",
              "      background-color: #E8F0FE;\n",
              "      border: none;\n",
              "      border-radius: 50%;\n",
              "      cursor: pointer;\n",
              "      display: none;\n",
              "      fill: #1967D2;\n",
              "      height: 32px;\n",
              "      padding: 0 0 0 0;\n",
              "      width: 32px;\n",
              "    }\n",
              "\n",
              "    .colab-df-convert:hover {\n",
              "      background-color: #E2EBFA;\n",
              "      box-shadow: 0px 1px 2px rgba(60, 64, 67, 0.3), 0px 1px 3px 1px rgba(60, 64, 67, 0.15);\n",
              "      fill: #174EA6;\n",
              "    }\n",
              "\n",
              "    [theme=dark] .colab-df-convert {\n",
              "      background-color: #3B4455;\n",
              "      fill: #D2E3FC;\n",
              "    }\n",
              "\n",
              "    [theme=dark] .colab-df-convert:hover {\n",
              "      background-color: #434B5C;\n",
              "      box-shadow: 0px 1px 3px 1px rgba(0, 0, 0, 0.15);\n",
              "      filter: drop-shadow(0px 1px 2px rgba(0, 0, 0, 0.3));\n",
              "      fill: #FFFFFF;\n",
              "    }\n",
              "  </style>\n",
              "\n",
              "      <script>\n",
              "        const buttonEl =\n",
              "          document.querySelector('#df-9921cf33-ccd3-4478-90b8-050644f8a073 button.colab-df-convert');\n",
              "        buttonEl.style.display =\n",
              "          google.colab.kernel.accessAllowed ? 'block' : 'none';\n",
              "\n",
              "        async function convertToInteractive(key) {\n",
              "          const element = document.querySelector('#df-9921cf33-ccd3-4478-90b8-050644f8a073');\n",
              "          const dataTable =\n",
              "            await google.colab.kernel.invokeFunction('convertToInteractive',\n",
              "                                                     [key], {});\n",
              "          if (!dataTable) return;\n",
              "\n",
              "          const docLinkHtml = 'Like what you see? Visit the ' +\n",
              "            '<a target=\"_blank\" href=https://colab.research.google.com/notebooks/data_table.ipynb>data table notebook</a>'\n",
              "            + ' to learn more about interactive tables.';\n",
              "          element.innerHTML = '';\n",
              "          dataTable['output_type'] = 'display_data';\n",
              "          await google.colab.output.renderOutput(dataTable, element);\n",
              "          const docLink = document.createElement('div');\n",
              "          docLink.innerHTML = docLinkHtml;\n",
              "          element.appendChild(docLink);\n",
              "        }\n",
              "      </script>\n",
              "    </div>\n",
              "  </div>\n",
              "  "
            ]
          },
          "metadata": {},
          "execution_count": 3
        }
      ]
    },
    {
      "cell_type": "code",
      "source": [
        "#Corroboramos valores nulos\n",
        "valores_nulos=df.isnull().sum()\n",
        "valores_nulos"
      ],
      "metadata": {
        "colab": {
          "base_uri": "https://localhost:8080/"
        },
        "id": "-GXXpo_0xxU4",
        "outputId": "d2afa0d5-e10f-4e61-87c6-14c44417950f"
      },
      "execution_count": 6,
      "outputs": [
        {
          "output_type": "execute_result",
          "data": {
            "text/plain": [
              "_child_record_id                          0\n",
              "_record_id                                0\n",
              "_parent_id                                0\n",
              "_title                                    0\n",
              "_version                                  0\n",
              "_created_at                               0\n",
              "_updated_at                               0\n",
              "_created_by                               0\n",
              "_updated_by                               0\n",
              "_index                                    0\n",
              "_geometry                                 0\n",
              "_latitude                                 0\n",
              "_longitude                                0\n",
              "_changeset_id                             0\n",
              "_created_duration                         0\n",
              "_updated_duration                         0\n",
              "_edited_duration                          0\n",
              "name_of_the_store                         0\n",
              "entering_the_store                        0\n",
              "number_of_customers_in_store              0\n",
              "number_of_suppliers_in_store              0\n",
              "picture_cargo_being_delivered             0\n",
              "picture_cargo_being_delivered_captions    0\n",
              "picture_cargo_being_delivered_urls        0\n",
              "number_of_cases_boxes_delivered           0\n",
              "trolley_in_use                            0\n",
              "leaving_the_store                         0\n",
              "dtype: int64"
            ]
          },
          "metadata": {},
          "execution_count": 6
        }
      ]
    },
    {
      "cell_type": "code",
      "source": [
        "#Sustitución de los valores nulos\n",
        "#Sustituimos los datos nulos por un enunciado, siendo estos así porque son casos muy específicos para llenarlos por otros datos\n",
        "df[\"picture_cargo_being_delivered\"]=df[\"picture_cargo_being_delivered\"].fillna(\"Dato no proporcionado\")\n",
        "df[\"picture_cargo_being_delivered_captions\"]=df[\"picture_cargo_being_delivered_captions\"].fillna(\"Dato no proporcionado\")\n",
        "df[\"picture_cargo_being_delivered_urls\"]=df[\"picture_cargo_being_delivered_urls\"].fillna(\"Dato no proporcionado\")"
      ],
      "metadata": {
        "id": "Zpst0KPUyA_5"
      },
      "execution_count": 7,
      "outputs": []
    },
    {
      "cell_type": "code",
      "source": [
        "#Corroboramos valores nulos\n",
        "valores_nulos=df.isnull().sum()\n",
        "valores_nulos"
      ],
      "metadata": {
        "colab": {
          "base_uri": "https://localhost:8080/"
        },
        "id": "24sMZn6ZyqDC",
        "outputId": "f1b7ad1e-52f8-4772-ca98-d1b57f2ef4f4"
      },
      "execution_count": 8,
      "outputs": [
        {
          "output_type": "execute_result",
          "data": {
            "text/plain": [
              "_child_record_id                          0\n",
              "_record_id                                0\n",
              "_parent_id                                0\n",
              "_title                                    0\n",
              "_version                                  0\n",
              "_created_at                               0\n",
              "_updated_at                               0\n",
              "_created_by                               0\n",
              "_updated_by                               0\n",
              "_index                                    0\n",
              "_geometry                                 0\n",
              "_latitude                                 0\n",
              "_longitude                                0\n",
              "_changeset_id                             0\n",
              "_created_duration                         0\n",
              "_updated_duration                         0\n",
              "_edited_duration                          0\n",
              "name_of_the_store                         0\n",
              "entering_the_store                        0\n",
              "number_of_customers_in_store              0\n",
              "number_of_suppliers_in_store              0\n",
              "picture_cargo_being_delivered             0\n",
              "picture_cargo_being_delivered_captions    0\n",
              "picture_cargo_being_delivered_urls        0\n",
              "number_of_cases_boxes_delivered           0\n",
              "trolley_in_use                            0\n",
              "leaving_the_store                         0\n",
              "dtype: int64"
            ]
          },
          "metadata": {},
          "execution_count": 8
        }
      ]
    },
    {
      "cell_type": "code",
      "source": [
        "#Realizamos diagrama de caja o bigote de cada columna del dataframe\n",
        "fig=plt.figure(figsize=(15,8))\n",
        "df.plot(kind=\"box\",vert=False)\n",
        "plt.title (\"Valores Atípicos del DataFrame\")\n",
        "plt.show() #dibujamos el diagrama"
      ],
      "metadata": {
        "colab": {
          "base_uri": "https://localhost:8080/",
          "height": 298
        },
        "id": "dvE5TyG6yvEK",
        "outputId": "b7d4a0b6-e954-44f2-f33b-817d2e803311"
      },
      "execution_count": 9,
      "outputs": [
        {
          "output_type": "display_data",
          "data": {
            "text/plain": [
              "<Figure size 1080x576 with 0 Axes>"
            ]
          },
          "metadata": {}
        },
        {
          "output_type": "display_data",
          "data": {
            "text/plain": [
              "<Figure size 432x288 with 1 Axes>"
            ],
            "image/png": "[encoded data removed]"
          },
          "metadata": {
            "needs_background": "light"
          }
        }
      ]
    },
    {
      "cell_type": "code",
      "source": [
        "#Método aplicando desviación estándar.Encuentro los valores extremos\n",
        "y=df\n",
        "Limite_Superior=y.mean()+3*y.std()\n",
        "Limite_Inferior=y.mean()-3*y.std()\n",
        "print(\"Límite superior permitido\",Limite_Superior)\n",
        "print(\"Límite inferior permitido\",Limite_Inferior)"
      ],
      "metadata": {
        "colab": {
          "base_uri": "https://localhost:8080/"
        },
        "id": "knBImRoOy7F2",
        "outputId": "d5a5a52d-3d52-4d31-f776-335e35a88e9e"
      },
      "execution_count": 10,
      "outputs": [
        {
          "output_type": "stream",
          "name": "stdout",
          "text": [
            "Límite superior permitido _version                             1.000000\n",
            "_index                               0.000000\n",
            "_latitude                           22.553018\n",
            "_longitude                         -97.280436\n",
            "_created_duration                  358.403131\n",
            "_updated_duration                  485.826981\n",
            "_edited_duration                   483.899300\n",
            "number_of_customers_in_store         7.828641\n",
            "number_of_suppliers_in_store         4.146352\n",
            "number_of_cases_boxes_delivered     26.908299\n",
            "dtype: float64\n",
            "Límite inferior permitido _version                             1.000000\n",
            "_index                               0.000000\n",
            "_latitude                           15.874103\n",
            "_longitude                         -99.338593\n",
            "_created_duration                 -294.003131\n",
            "_updated_duration                 -284.226981\n",
            "_edited_duration                  -275.042157\n",
            "number_of_customers_in_store        -4.514356\n",
            "number_of_suppliers_in_store        -1.174923\n",
            "number_of_cases_boxes_delivered    -14.851156\n",
            "dtype: float64\n"
          ]
        },
        {
          "output_type": "stream",
          "name": "stderr",
          "text": [
            "/usr/local/lib/python3.7/dist-packages/ipykernel_launcher.py:3: FutureWarning: Dropping of nuisance columns in DataFrame reductions (with 'numeric_only=None') is deprecated; in a future version this will raise TypeError.  Select only valid columns before calling the reduction.\n",
            "  This is separate from the ipykernel package so we can avoid doing imports until\n",
            "/usr/local/lib/python3.7/dist-packages/ipykernel_launcher.py:4: FutureWarning: Dropping of nuisance columns in DataFrame reductions (with 'numeric_only=None') is deprecated; in a future version this will raise TypeError.  Select only valid columns before calling the reduction.\n",
            "  after removing the cwd from sys.path.\n"
          ]
        }
      ]
    },
    {
      "cell_type": "code",
      "source": [
        "#Encontramos Outliers del DataFrame\n",
        "outliers=df[(y>Limite_Superior)|(y<Limite_Inferior)]\n",
        "outliers"
      ],
      "metadata": {
        "id": "x1wDxvGizE29"
      },
      "execution_count": null,
      "outputs": []
    },
    {
      "cell_type": "code",
      "source": [
        "#Obtenemos datos y los outliers se convierten en nulos en el DataFrame\n",
        "df2=df[(y<=Limite_Superior)&(y>=Limite_Inferior)]\n",
        "df2"
      ],
      "metadata": {
        "id": "Z8oBuYlKzIJv"
      },
      "execution_count": null,
      "outputs": []
    },
    {
      "cell_type": "code",
      "source": [
        "#eliminamos columnas innecesarias\n",
        "df3=df2.drop(['_child_record_id','_record_id', \"_parent_id\", '_title', '_version', '_created_at', '_updated_at', '_updated_by', '_created_by', '_index','_geometry', '_latitude', '_longitude', '_changeset_id', 'name_of_the_store', 'entering_the_store','picture_cargo_being_delivered','picture_cargo_being_delivered_urls', 'picture_cargo_being_delivered_captions', 'trolley_in_use', 'leaving_the_store' ], axis=1)\n",
        "df3"
      ],
      "metadata": {
        "id": "gaCycYBbzLQX"
      },
      "execution_count": null,
      "outputs": []
    },
    {
      "cell_type": "code",
      "source": [
        "#Identificar valores nulos por columna\n",
        "valores_nulos=df3.isnull().sum()\n",
        "valores_nulos"
      ],
      "metadata": {
        "colab": {
          "base_uri": "https://localhost:8080/"
        },
        "id": "POFc3xovzWyZ",
        "outputId": "2f176dba-8e75-4bd1-93a3-3553b8a7dfd6"
      },
      "execution_count": 16,
      "outputs": [
        {
          "output_type": "execute_result",
          "data": {
            "text/plain": [
              "_created_duration                  1\n",
              "_updated_duration                  1\n",
              "_edited_duration                   1\n",
              "number_of_customers_in_store       1\n",
              "number_of_suppliers_in_store       1\n",
              "number_of_cases_boxes_delivered    1\n",
              "dtype: int64"
            ]
          },
          "metadata": {},
          "execution_count": 16
        }
      ]
    },
    {
      "cell_type": "code",
      "source": [
        "#Reemplazamos valores nulos del dataframe con \"mean\"\n",
        "#Realizamos una copia del dataframe\n",
        "data_clean=df3.copy()\n",
        "data_clean=data_clean.fillna(round(df3.mean(),1))\n",
        "data_clean"
      ],
      "metadata": {
        "id": "K6edh2Mz15Xv"
      },
      "execution_count": null,
      "outputs": []
    },
    {
      "cell_type": "code",
      "source": [
        "#Identificar valores nulos por columna\n",
        "valores_nulos=data_clean.isnull().sum()\n",
        "valores_nulos"
      ],
      "metadata": {
        "colab": {
          "base_uri": "https://localhost:8080/"
        },
        "id": "a_IHYG9v169A",
        "outputId": "9f6e4cf6-3bfd-411f-bc52-3568260da40d"
      },
      "execution_count": 19,
      "outputs": [
        {
          "output_type": "execute_result",
          "data": {
            "text/plain": [
              "_created_duration                  0\n",
              "_updated_duration                  0\n",
              "_edited_duration                   0\n",
              "number_of_customers_in_store       0\n",
              "number_of_suppliers_in_store       0\n",
              "number_of_cases_boxes_delivered    0\n",
              "dtype: int64"
            ]
          },
          "metadata": {},
          "execution_count": 19
        }
      ]
    },
    {
      "cell_type": "code",
      "source": [
        "#Unimos las columnas con el data frame\n",
        "columnas_quitadas=df[['_child_record_id','_record_id', \"_parent_id\", '_title', '_version', '_created_at', '_updated_at', '_updated_by', '_created_by', '_index','_geometry', '_latitude', '_longitude', '_changeset_id', 'name_of_the_store', 'entering_the_store','picture_cargo_being_delivered','picture_cargo_being_delivered_urls', 'picture_cargo_being_delivered_captions', 'trolley_in_use', 'leaving_the_store']]\n",
        "Datos_limpios=pd.concat([columnas_quitadas, data_clean], axis=1)\n",
        "Datos_limpios"
      ],
      "metadata": {
        "id": "W2szht5qzaj3"
      },
      "execution_count": null,
      "outputs": []
    },
    {
      "cell_type": "code",
      "source": [
        "#Convertit DataFrame a CSV\n",
        "Datos_limpios.to_csv(\"Datos_limpios_lastmile_delivery_operations_mit_lift_lab_serving_customer.csv\")"
      ],
      "metadata": {
        "id": "Ev704n-42CUQ"
      },
      "execution_count": 21,
      "outputs": []
    },
    {
      "cell_type": "code",
      "source": [
        "#Descargar archivo filtrado en csv\n",
        "files.download(\"Datos_limpios_lastmile_delivery_operations_mit_lift_lab_serving_customer.csv\")"
      ],
      "metadata": {
        "colab": {
          "base_uri": "https://localhost:8080/",
          "height": 17
        },
        "id": "cpYA0do22C3t",
        "outputId": "d8f240ef-d8f3-4100-cfc5-77df0aa21cac"
      },
      "execution_count": 22,
      "outputs": [
        {
          "output_type": "display_data",
          "data": {
            "text/plain": [
              "<IPython.core.display.Javascript object>"
            ],
            "application/javascript": [
              "\n",
              "    async function download(id, filename, size) {\n",
              "      if (!google.colab.kernel.accessAllowed) {\n",
              "        return;\n",
              "      }\n",
              "      const div = document.createElement('div');\n",
              "      const label = document.createElement('label');\n",
              "      label.textContent = `Downloading \"${filename}\": `;\n",
              "      div.appendChild(label);\n",
              "      const progress = document.createElement('progress');\n",
              "      progress.max = size;\n",
              "      div.appendChild(progress);\n",
              "      document.body.appendChild(div);\n",
              "\n",
              "      const buffers = [];\n",
              "      let downloaded = 0;\n",
              "\n",
              "      const channel = await google.colab.kernel.comms.open(id);\n",
              "      // Send a message to notify the kernel that we're ready.\n",
              "      channel.send({})\n",
              "\n",
              "      for await (const message of channel.messages) {\n",
              "        // Send a message to notify the kernel that we're ready.\n",
              "        channel.send({})\n",
              "        if (message.buffers) {\n",
              "          for (const buffer of message.buffers) {\n",
              "            buffers.push(buffer);\n",
              "            downloaded += buffer.byteLength;\n",
              "            progress.value = downloaded;\n",
              "          }\n",
              "        }\n",
              "      }\n",
              "      const blob = new Blob(buffers, {type: 'application/binary'});\n",
              "      const a = document.createElement('a');\n",
              "      a.href = window.URL.createObjectURL(blob);\n",
              "      a.download = filename;\n",
              "      div.appendChild(a);\n",
              "      a.click();\n",
              "      div.remove();\n",
              "    }\n",
              "  "
            ]
          },
          "metadata": {}
        },
        {
          "output_type": "display_data",
          "data": {
            "text/plain": [
              "<IPython.core.display.Javascript object>"
            ],
            "application/javascript": [
              "download(\"download_fd4e38ee-c211-4117-a967-c47ffd9126c1\", \"Datos_limpios_lastmile_delivery_operations_mit_lift_lab_serving_customer.csv\", 23108)"
            ]
          },
          "metadata": {}
        }
      ]
    }
  ]
}